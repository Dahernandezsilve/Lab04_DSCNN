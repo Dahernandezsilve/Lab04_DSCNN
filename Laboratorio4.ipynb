{
 "cells": [
  {
   "cell_type": "markdown",
   "metadata": {},
   "source": [
    "# Universidad del Valle de Guatemala\n",
    "## Facultad de Ingeniería\n",
    "### Departamento de Computación\n",
    "\n",
    "---\n",
    "\n",
    "# Laboratorio 4: CNN\n",
    "\n",
    "**Integrantes:**\n",
    "- Diego Alexander Hernández Silvestre, 21270\n",
    "- Linda Inés Jiménez Vides, 21169\n",
    "\n",
    "**Curso:** Data Science  \n",
    "**Sección:** 10  \n",
    "\n",
    "---\n",
    "\n",
    "Guatemala, 22 de agosto de 2024\n"
   ]
  },
  {
   "cell_type": "code",
   "execution_count": 4,
   "metadata": {},
   "outputs": [],
   "source": [
    "import opendatasets as od\n",
    "import pandas as pd\n",
    "import os\n",
    "import zipfile\n",
    "import matplotlib.pyplot as plt\n",
    "from matplotlib.image import imread\n",
    "import random\n",
    "from os import listdir\n",
    "import shutil\n",
    "import numpy as np\n",
    "import keras.preprocessing.image as kerasImg\n",
    "import keras.layers\n",
    "from tensorflow.keras.preprocessing.image import ImageDataGenerator\n",
    "from keras import ops\n",
    "from PIL import Image\n",
    "from collections import Counter"
   ]
  },
  {
   "cell_type": "markdown",
   "metadata": {},
   "source": [
    "### Inciso 1. 🖼️ Carga y visualización de datos"
   ]
  },
  {
   "cell_type": "markdown",
   "metadata": {},
   "source": [
    "Se extraen las labels de las imágenes, que en este dataset corresponden los números del 0 al 9 y además, se cargan. "
   ]
  },
  {
   "cell_type": "code",
   "execution_count": null,
   "metadata": {},
   "outputs": [],
   "source": [
    "baseDir = './data/PolyMNIST/MMNIST/'\n",
    "trainDirs = [os.path.join(baseDir, 'train', f'm{i}') for i in range(5)]\n",
    "testDirs = [os.path.join(baseDir, 'test', f'm{i}') for i in range(5)]\n",
    "\n",
    "def loadImages(folder):\n",
    "    images = []\n",
    "    labels = []\n",
    "    for filename in os.listdir(folder):\n",
    "        img = Image.open(os.path.join(folder, filename))\n",
    "        if img is not None:\n",
    "            images.append(np.array(img))\n",
    "            label = int(filename.split('.')[1]) \n",
    "            labels.append(label) \n",
    "    return images, labels\n",
    "\n",
    "trainImages, trainLabels = [], []\n",
    "for dir in trainDirs:\n",
    "    images, labels = loadImages(dir)\n",
    "    trainImages.extend(images)\n",
    "    trainLabels.extend(labels)\n",
    "\n",
    "testImages, testLabels = [], []\n",
    "for dir in testDirs:\n",
    "    images, labels = loadImages(dir)\n",
    "    testImages.extend(images)\n",
    "    testLabels.extend(labels)"
   ]
  },
  {
   "cell_type": "markdown",
   "metadata": {},
   "source": [
    "Una vez cargadas, se visualizan algunos ejemplos para ver sus características. "
   ]
  },
  {
   "cell_type": "code",
   "execution_count": null,
   "metadata": {},
   "outputs": [],
   "source": [
    "plt.figure(figsize=(10, 10))\n",
    "for i in range(25):\n",
    "    plt.subplot(5, 5, i + 1)\n",
    "    plt.imshow(trainImages[i])  \n",
    "    height, width, _ = trainImages[i].shape\n",
    "    plt.title(f'Label: {trainLabels[i]}\\nSize: {width}x{height}')  \n",
    "    plt.axis('off')\n",
    "plt.show()"
   ]
  },
  {
   "cell_type": "markdown",
   "metadata": {},
   "source": [
    "Guardamos las imágenes en forma binaria."
   ]
  },
  {
   "cell_type": "code",
   "execution_count": null,
   "metadata": {},
   "outputs": [],
   "source": [
    "np.save('MMNIST_train_images.npy', trainImages)\n",
    "np.save('MMNIST_train_labels.npy', trainLabels)\n",
    "np.save('MMNIST_test_images.npy', testImages)\n",
    "np.save('MMNIST_test_labels.npy', testLabels)"
   ]
  },
  {
   "cell_type": "markdown",
   "metadata": {},
   "source": [
    "Se cargan de forma binaria para que sea más rápido su uso."
   ]
  },
  {
   "cell_type": "code",
   "execution_count": null,
   "metadata": {},
   "outputs": [],
   "source": [
    "trainImages = np.load('MMNIST_train_images.npy')\n",
    "trainLabels = np.load('MMNIST_train_labels.npy')\n",
    "testImages = np.load('MMNIST_test_images.npy')\n",
    "testLabels = np.load('MMNIST_test_labels.npy')"
   ]
  },
  {
   "cell_type": "markdown",
   "metadata": {},
   "source": [
    "## Inciso 2. 🔍 EDA (Exploratory Data Analysis)"
   ]
  },
  {
   "cell_type": "markdown",
   "metadata": {},
   "source": [
    "Se identifica el tamaño del dataset. "
   ]
  },
  {
   "cell_type": "code",
   "execution_count": null,
   "metadata": {},
   "outputs": [],
   "source": [
    "def countImagesInDirectory(directory):\n",
    "    totalImages = 0\n",
    "    print(f'🔍 Contando imágenes en: {directory}')\n",
    "    for subdir in os.listdir(directory):\n",
    "        subdirPath = os.path.join(directory, subdir)\n",
    "        if os.path.isdir(subdirPath):\n",
    "            numImages = len(os.listdir(subdirPath))\n",
    "            print(f'📂 Número de imágenes en {subdirPath}: {numImages}')\n",
    "            totalImages += numImages\n",
    "    return totalImages\n",
    "\n",
    "trainDir = os.path.join(baseDir, 'train')\n",
    "testDir = os.path.join(baseDir, 'test')\n",
    "totalTrainImages = countImagesInDirectory(trainDir)\n",
    "totalTestImages = countImagesInDirectory(testDir)\n",
    "\n",
    "print(f'📈 Total de imágenes en el conjunto de entrenamiento: {totalTrainImages}')\n",
    "print(f'📈 Total de imágenes en el conjunto de prueba: {totalTestImages}')"
   ]
  },
  {
   "cell_type": "markdown",
   "metadata": {},
   "source": [
    "Se observan los tamaños que tienen las imágenes"
   ]
  },
  {
   "cell_type": "code",
   "execution_count": null,
   "metadata": {},
   "outputs": [],
   "source": [
    "def getImageSizes(directory):\n",
    "    sizes = []\n",
    "    for subdir in os.listdir(directory):\n",
    "        subdir_path = os.path.join(directory, subdir)\n",
    "        if os.path.isdir(subdir_path):\n",
    "            for file_name in os.listdir(subdir_path):\n",
    "                file_path = os.path.join(subdir_path, file_name)\n",
    "                with Image.open(file_path) as img:\n",
    "                    sizes.append(img.size)\n",
    "    return sizes\n",
    "\n",
    "imageSizes = getImageSizes('./data/PolyMNIST/MMNIST/')\n",
    "print(f'🖼️ Tamaños de las imágenes en el dataset: {imageSizes}')"
   ]
  },
  {
   "cell_type": "markdown",
   "metadata": {},
   "source": [
    "Se analiza la distribución de los tamaños."
   ]
  },
  {
   "cell_type": "code",
   "execution_count": null,
   "metadata": {},
   "outputs": [],
   "source": [
    "def analyzeSizes(sizes):\n",
    "    widths, heights = zip(*sizes)\n",
    "    avg_width = np.mean(widths)\n",
    "    avg_height = np.mean(heights)\n",
    "    std_width = np.std(widths)\n",
    "    std_height = np.std(heights)\n",
    "    \n",
    "    print(f'🔍 Análisis de tamaños:')\n",
    "    print(f'Promedio de ancho: {avg_width:.2f} px')\n",
    "    print(f'Promedio de alto: {avg_height:.2f} px')\n",
    "    print(f'Desviación estándar de ancho: {std_width:.2f} px')\n",
    "    print(f'Desviación estándar de alto: {std_height:.2f} px')\n",
    "\n",
    "analyzeSizes(imageSizes)"
   ]
  },
  {
   "cell_type": "markdown",
   "metadata": {},
   "source": [
    "También se analiza la distribución del dataset para ver si está balanceado. "
   ]
  },
  {
   "cell_type": "code",
   "execution_count": null,
   "metadata": {},
   "outputs": [],
   "source": [
    "etiquetasTrainDf = pd.DataFrame(trainLabels, columns=['Etiqueta'])\n",
    "etiquetasTestDf = pd.DataFrame(testLabels, columns=['Etiqueta'])\n",
    "distribucionTrain = etiquetasTrainDf['Etiqueta'].value_counts()\n",
    "distribucionTest = etiquetasTestDf['Etiqueta'].value_counts()\n",
    "\n",
    "plt.figure(figsize=(10, 6))\n",
    "plt.bar(distribucionTrain.index - 0.2, distribucionTrain.values, width=0.4, color='blue', alpha=0.7, label='Entrenamiento')\n",
    "plt.bar(distribucionTest.index + 0.2, distribucionTest.values, width=0.4, color='red', alpha=0.7, label='Prueba')\n",
    "\n",
    "plt.xlabel('Dígito')\n",
    "plt.ylabel('Frecuencia')\n",
    "plt.title('Distribución de los dígitos en los conjuntos de datos')\n",
    "plt.xticks(range(10))  \n",
    "plt.legend()\n",
    "plt.show()"
   ]
  },
  {
   "cell_type": "markdown",
   "metadata": {},
   "source": [
    "### 🧹 Preprocesamiento de las imágenes"
   ]
  },
  {
   "cell_type": "markdown",
   "metadata": {},
   "source": [
    "Redimensionamiento"
   ]
  },
  {
   "cell_type": "code",
   "execution_count": null,
   "metadata": {},
   "outputs": [],
   "source": [
    "def resizeImages(imageArray, new_size=(28, 28)):\n",
    "    resizedImages = []\n",
    "    for image in imageArray:\n",
    "        imagePil = Image.fromarray(image)\n",
    "        resizedImagePil = imagePil.resize(new_size)\n",
    "        resizedImageArray = np.array(resizedImagePil)\n",
    "        resizedImages.append(resizedImageArray)\n",
    "    return np.array(resizedImages)\n",
    "\n",
    "newSize = (28, 28) \n",
    "resizedTrainImages = resizeImages(trainImages, newSize)\n",
    "resizedTestImages = resizeImages(testImages, newSize)\n",
    "\n",
    "print(f'🖼️ Tamaño de imágenes redimensionadas de entrenamiento: {resizedTrainImages.shape}')\n",
    "print(f'🖼️ Tamaño de imágenes redimensionadas de prueba: {resizedTestImages.shape}')"
   ]
  },
  {
   "cell_type": "markdown",
   "metadata": {},
   "source": [
    "Filtro de escala de grises (los colores no son relevantes)"
   ]
  },
  {
   "cell_type": "code",
   "execution_count": null,
   "metadata": {},
   "outputs": [],
   "source": [
    "def convertToGrayscale(imageArray):\n",
    "    grayscaleImages = []\n",
    "    for image in imageArray:\n",
    "        imagePIL = Image.fromarray(image)\n",
    "        grayscaleImagePIL = imagePIL.convert('L')\n",
    "        grayscaleImageArray = np.array(grayscaleImagePIL)\n",
    "        grayscaleImages.append(grayscaleImageArray)\n",
    "    return np.array(grayscaleImages)\n",
    "\n",
    "grayscaleTrainImages = convertToGrayscale(resizedTrainImages)\n",
    "grayscaleTestImages = convertToGrayscale(resizedTestImages)\n",
    "\n",
    "print(f'🖼️ Tamaño de imágenes en escala de grises de entrenamiento: {grayscaleTrainImages.shape}')\n",
    "print(f'🖼️ Tamaño de imágenes en escala de grises de prueba: {grayscaleTestImages.shape}')\n",
    "\n",
    "np.save('MMNIST_grayscale_scaled_train_images.npy', grayscaleTrainImages)\n",
    "np.save('MMNIST_grayscale_scaled_images.npy', grayscaleTestImages)"
   ]
  }
 ],
 "metadata": {
  "kernelspec": {
   "display_name": "venv",
   "language": "python",
   "name": "python3"
  },
  "language_info": {
   "codemirror_mode": {
    "name": "ipython",
    "version": 3
   },
   "file_extension": ".py",
   "mimetype": "text/x-python",
   "name": "python",
   "nbconvert_exporter": "python",
   "pygments_lexer": "ipython3",
   "version": "3.11.8"
  }
 },
 "nbformat": 4,
 "nbformat_minor": 2
}
